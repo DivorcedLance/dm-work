{
 "cells": [
  {
   "cell_type": "code",
   "execution_count": 1,
   "id": "a9cef3e4",
   "metadata": {},
   "outputs": [
    {
     "name": "stderr",
     "output_type": "stream",
     "text": [
      "c:\\Users\\Jose\\Downloads\\dm-work\\venv\\Lib\\site-packages\\tqdm\\auto.py:21: TqdmWarning: IProgress not found. Please update jupyter and ipywidgets. See https://ipywidgets.readthedocs.io/en/stable/user_install.html\n",
      "  from .autonotebook import tqdm as notebook_tqdm\n"
     ]
    },
    {
     "name": "stdout",
     "output_type": "stream",
     "text": [
      "<class 'prophet.forecaster.Prophet'>\n",
      "{'regressor_names': ['is_weekend', 'is_holiday', 'is_night', 'is_rush_hour']}\n"
     ]
    }
   ],
   "source": [
    "import joblib\n",
    "from prophet import Prophet  # Solo importa Prophet, NO tu clase ProphetModel\n",
    "\n",
    "model_data = joblib.load('models/Prophet_3.joblib')\n",
    "modelo = model_data['model']  # Esto es un Prophet puro\n",
    "metadata = model_data['metadata']\n",
    "print(type(modelo))  # <class 'prophet.forecaster.Prophet'>\n",
    "print(metadata['best_params'])  # {'regressor_names': [...]}"
   ]
  }
 ],
 "metadata": {
  "kernelspec": {
   "display_name": "venv",
   "language": "python",
   "name": "python3"
  },
  "language_info": {
   "codemirror_mode": {
    "name": "ipython",
    "version": 3
   },
   "file_extension": ".py",
   "mimetype": "text/x-python",
   "name": "python",
   "nbconvert_exporter": "python",
   "pygments_lexer": "ipython3",
   "version": "3.12.6"
  }
 },
 "nbformat": 4,
 "nbformat_minor": 5
}
